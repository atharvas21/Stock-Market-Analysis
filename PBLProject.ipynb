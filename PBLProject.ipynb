{
  "nbformat": 4,
  "nbformat_minor": 0,
  "metadata": {
    "colab": {
      "name": "PBLProject.ipynb",
      "provenance": [],
      "collapsed_sections": [],
      "authorship_tag": "ABX9TyMqKGPuQdaSCbPm20RrNnRe",
      "include_colab_link": true
    },
    "kernelspec": {
      "display_name": "Python 3",
      "name": "python3"
    }
  },
  "cells": [
    {
      "cell_type": "markdown",
      "metadata": {
        "id": "view-in-github",
        "colab_type": "text"
      },
      "source": [
        "<a href=\"https://colab.research.google.com/github/atharvas21/Stock-Market-Analysis/blob/master/PBLProject.ipynb\" target=\"_parent\"><img src=\"https://colab.research.google.com/assets/colab-badge.svg\" alt=\"Open In Colab\"/></a>"
      ]
    },
    {
      "cell_type": "code",
      "metadata": {
        "colab": {
          "base_uri": "https://localhost:8080/"
        },
        "id": "DXawqmQsSvkd",
        "outputId": "42efbb46-4a63-4799-d93d-966f03ab373c"
      },
      "source": [
        "pip install alpha_vantage"
      ],
      "execution_count": null,
      "outputs": [
        {
          "output_type": "stream",
          "text": [
            "Collecting alpha_vantage\n",
            "  Downloading https://files.pythonhosted.org/packages/ba/b4/d95f9e0eccea6732bab5a079772d453a4f0b68a9f63740d9cf320f92beaa/alpha_vantage-2.3.1-py3-none-any.whl\n",
            "Requirement already satisfied: requests in /usr/local/lib/python3.6/dist-packages (from alpha_vantage) (2.23.0)\n",
            "Collecting aiohttp\n",
            "\u001b[?25l  Downloading https://files.pythonhosted.org/packages/ad/e6/d4b6235d776c9b33f853e603efede5aac5a34f71ca9d3877adb30492eb4e/aiohttp-3.7.3-cp36-cp36m-manylinux2014_x86_64.whl (1.3MB)\n",
            "\u001b[K     |████████████████████████████████| 1.3MB 6.7MB/s \n",
            "\u001b[?25hRequirement already satisfied: urllib3!=1.25.0,!=1.25.1,<1.26,>=1.21.1 in /usr/local/lib/python3.6/dist-packages (from requests->alpha_vantage) (1.24.3)\n",
            "Requirement already satisfied: chardet<4,>=3.0.2 in /usr/local/lib/python3.6/dist-packages (from requests->alpha_vantage) (3.0.4)\n",
            "Requirement already satisfied: idna<3,>=2.5 in /usr/local/lib/python3.6/dist-packages (from requests->alpha_vantage) (2.10)\n",
            "Requirement already satisfied: certifi>=2017.4.17 in /usr/local/lib/python3.6/dist-packages (from requests->alpha_vantage) (2020.12.5)\n",
            "Collecting yarl<2.0,>=1.0\n",
            "\u001b[?25l  Downloading https://files.pythonhosted.org/packages/da/08/52b26b44bce7b818b410aee37c5e424c9ea420c557bca97dc2adac29b151/yarl-1.6.3-cp36-cp36m-manylinux2014_x86_64.whl (293kB)\n",
            "\u001b[K     |████████████████████████████████| 296kB 19.1MB/s \n",
            "\u001b[?25hCollecting idna-ssl>=1.0; python_version < \"3.7\"\n",
            "  Downloading https://files.pythonhosted.org/packages/46/03/07c4894aae38b0de52b52586b24bf189bb83e4ddabfe2e2c8f2419eec6f4/idna-ssl-1.1.0.tar.gz\n",
            "Requirement already satisfied: typing-extensions>=3.6.5 in /usr/local/lib/python3.6/dist-packages (from aiohttp->alpha_vantage) (3.7.4.3)\n",
            "Requirement already satisfied: attrs>=17.3.0 in /usr/local/lib/python3.6/dist-packages (from aiohttp->alpha_vantage) (20.3.0)\n",
            "Collecting multidict<7.0,>=4.5\n",
            "\u001b[?25l  Downloading https://files.pythonhosted.org/packages/a1/35/b22524d6b9cacfb4c5eff413a069bbc17c6ea628e54da5c6c989998ced5f/multidict-5.1.0-cp36-cp36m-manylinux2014_x86_64.whl (141kB)\n",
            "\u001b[K     |████████████████████████████████| 143kB 19.7MB/s \n",
            "\u001b[?25hCollecting async-timeout<4.0,>=3.0\n",
            "  Downloading https://files.pythonhosted.org/packages/e1/1e/5a4441be21b0726c4464f3f23c8b19628372f606755a9d2e46c187e65ec4/async_timeout-3.0.1-py3-none-any.whl\n",
            "Building wheels for collected packages: idna-ssl\n",
            "  Building wheel for idna-ssl (setup.py) ... \u001b[?25l\u001b[?25hdone\n",
            "  Created wheel for idna-ssl: filename=idna_ssl-1.1.0-cp36-none-any.whl size=3163 sha256=b2e4102fdfb5e1bce27c7e4ec65b2311a7576e1bac74ef3e394fe98c9b1edd09\n",
            "  Stored in directory: /root/.cache/pip/wheels/d3/00/b3/32d613e19e08a739751dd6bf998cfed277728f8b2127ad4eb7\n",
            "Successfully built idna-ssl\n",
            "Installing collected packages: multidict, yarl, idna-ssl, async-timeout, aiohttp, alpha-vantage\n",
            "Successfully installed aiohttp-3.7.3 alpha-vantage-2.3.1 async-timeout-3.0.1 idna-ssl-1.1.0 multidict-5.1.0 yarl-1.6.3\n"
          ],
          "name": "stdout"
        }
      ]
    },
    {
      "cell_type": "code",
      "metadata": {
        "id": "14yEBuOjTCin"
      },
      "source": [
        "import pandas as pd"
      ],
      "execution_count": null,
      "outputs": []
    },
    {
      "cell_type": "code",
      "metadata": {
        "id": "Bt03YBC4zxJF"
      },
      "source": [
        "from alpha_vantage.timeseries import TimeSeries"
      ],
      "execution_count": null,
      "outputs": []
    },
    {
      "cell_type": "code",
      "metadata": {
        "id": "XbLimzXqzzsO"
      },
      "source": [
        "import matplotlib.pyplot as plt"
      ],
      "execution_count": null,
      "outputs": []
    },
    {
      "cell_type": "code",
      "metadata": {
        "id": "Gynv1CisUA8k"
      },
      "source": [
        "import time"
      ],
      "execution_count": null,
      "outputs": []
    },
    {
      "cell_type": "code",
      "metadata": {
        "id": "QWlJt1QzUDHx"
      },
      "source": [
        "api_key='4WD4N4EACWW6W027'"
      ],
      "execution_count": null,
      "outputs": []
    },
    {
      "cell_type": "code",
      "metadata": {
        "id": "xNrFXLF0Uk_6"
      },
      "source": [
        "ts = TimeSeries(key=api_key, output_format='pandas')"
      ],
      "execution_count": null,
      "outputs": []
    },
    {
      "cell_type": "code",
      "metadata": {
        "id": "ZhkYEgzdVMsc"
      },
      "source": [
        "data, meta_data=ts.get_intraday(symbol='MSFT',interval='1min',outputsize='full')"
      ],
      "execution_count": null,
      "outputs": []
    },
    {
      "cell_type": "code",
      "metadata": {
        "colab": {
          "base_uri": "https://localhost:8080/",
          "height": 227
        },
        "id": "jpNLoldC3EcG",
        "outputId": "0dc46bd6-21e0-47c4-f1ad-91e180c8fc62"
      },
      "source": [
        "data.head()"
      ],
      "execution_count": null,
      "outputs": [
        {
          "output_type": "execute_result",
          "data": {
            "text/html": [
              "<div>\n",
              "<style scoped>\n",
              "    .dataframe tbody tr th:only-of-type {\n",
              "        vertical-align: middle;\n",
              "    }\n",
              "\n",
              "    .dataframe tbody tr th {\n",
              "        vertical-align: top;\n",
              "    }\n",
              "\n",
              "    .dataframe thead th {\n",
              "        text-align: right;\n",
              "    }\n",
              "</style>\n",
              "<table border=\"1\" class=\"dataframe\">\n",
              "  <thead>\n",
              "    <tr style=\"text-align: right;\">\n",
              "      <th></th>\n",
              "      <th>1. open</th>\n",
              "      <th>2. high</th>\n",
              "      <th>3. low</th>\n",
              "      <th>4. close</th>\n",
              "      <th>5. volume</th>\n",
              "    </tr>\n",
              "    <tr>\n",
              "      <th>date</th>\n",
              "      <th></th>\n",
              "      <th></th>\n",
              "      <th></th>\n",
              "      <th></th>\n",
              "      <th></th>\n",
              "    </tr>\n",
              "  </thead>\n",
              "  <tbody>\n",
              "    <tr>\n",
              "      <th>2021-02-19 20:00:00</th>\n",
              "      <td>240.68</td>\n",
              "      <td>240.68</td>\n",
              "      <td>240.68</td>\n",
              "      <td>240.68</td>\n",
              "      <td>383.0</td>\n",
              "    </tr>\n",
              "    <tr>\n",
              "      <th>2021-02-19 19:59:00</th>\n",
              "      <td>240.61</td>\n",
              "      <td>240.61</td>\n",
              "      <td>240.61</td>\n",
              "      <td>240.61</td>\n",
              "      <td>531.0</td>\n",
              "    </tr>\n",
              "    <tr>\n",
              "      <th>2021-02-19 19:58:00</th>\n",
              "      <td>240.61</td>\n",
              "      <td>240.61</td>\n",
              "      <td>240.61</td>\n",
              "      <td>240.61</td>\n",
              "      <td>406.0</td>\n",
              "    </tr>\n",
              "    <tr>\n",
              "      <th>2021-02-19 19:52:00</th>\n",
              "      <td>240.78</td>\n",
              "      <td>240.78</td>\n",
              "      <td>240.78</td>\n",
              "      <td>240.78</td>\n",
              "      <td>315.0</td>\n",
              "    </tr>\n",
              "    <tr>\n",
              "      <th>2021-02-19 19:42:00</th>\n",
              "      <td>240.60</td>\n",
              "      <td>240.60</td>\n",
              "      <td>240.60</td>\n",
              "      <td>240.60</td>\n",
              "      <td>170.0</td>\n",
              "    </tr>\n",
              "  </tbody>\n",
              "</table>\n",
              "</div>"
            ],
            "text/plain": [
              "                     1. open  2. high  3. low  4. close  5. volume\n",
              "date                                                              \n",
              "2021-02-19 20:00:00   240.68   240.68  240.68    240.68      383.0\n",
              "2021-02-19 19:59:00   240.61   240.61  240.61    240.61      531.0\n",
              "2021-02-19 19:58:00   240.61   240.61  240.61    240.61      406.0\n",
              "2021-02-19 19:52:00   240.78   240.78  240.78    240.78      315.0\n",
              "2021-02-19 19:42:00   240.60   240.60  240.60    240.60      170.0"
            ]
          },
          "metadata": {
            "tags": []
          },
          "execution_count": 22
        }
      ]
    },
    {
      "cell_type": "code",
      "metadata": {
        "colab": {
          "base_uri": "https://localhost:8080/",
          "height": 282
        },
        "id": "tRK4smub0vF1",
        "outputId": "de1f0e37-4db1-41ed-a4d6-a87815e57298"
      },
      "source": [
        "plt.plot(data['4. close'])"
      ],
      "execution_count": null,
      "outputs": [
        {
          "output_type": "execute_result",
          "data": {
            "text/plain": [
              "[<matplotlib.lines.Line2D at 0x7f4d92d6d630>]"
            ]
          },
          "metadata": {
            "tags": []
          },
          "execution_count": 20
        },
        {
          "output_type": "display_data",
          "data": {
            "image/png": "[encoded data removed]",
            "text/plain": [
              "<Figure size 432x288 with 1 Axes>"
            ]
          },
          "metadata": {
            "tags": [],
            "needs_background": "light"
          }
        }
      ]
    },
    {
      "cell_type": "code",
      "metadata": {
        "id": "qvKhxpas2fJu"
      },
      "source": [
        "columns=['1. open',\t'2. high',\t'3. low',\t'4. close',\t'5. volume']\r\n",
        "data.columns = columns"
      ],
      "execution_count": null,
      "outputs": []
    },
    {
      "cell_type": "code",
      "metadata": {
        "id": "IegVomR52pyt"
      },
      "source": [
        "data['TradeDate']=data.index.date\r\n",
        "data['time']=data.index.time"
      ],
      "execution_count": null,
      "outputs": []
    },
    {
      "cell_type": "code",
      "metadata": {
        "colab": {
          "base_uri": "https://localhost:8080/",
          "height": 437
        },
        "id": "HoTmOg2U3eW_",
        "outputId": "fab81826-a0b3-48e5-fed9-4e62e892db71"
      },
      "source": [
        "data.loc['2021-02-19']"
      ],
      "execution_count": null,
      "outputs": [
        {
          "output_type": "execute_result",
          "data": {
            "text/html": [
              "<div>\n",
              "<style scoped>\n",
              "    .dataframe tbody tr th:only-of-type {\n",
              "        vertical-align: middle;\n",
              "    }\n",
              "\n",
              "    .dataframe tbody tr th {\n",
              "        vertical-align: top;\n",
              "    }\n",
              "\n",
              "    .dataframe thead th {\n",
              "        text-align: right;\n",
              "    }\n",
              "</style>\n",
              "<table border=\"1\" class=\"dataframe\">\n",
              "  <thead>\n",
              "    <tr style=\"text-align: right;\">\n",
              "      <th></th>\n",
              "      <th>1. open</th>\n",
              "      <th>2. high</th>\n",
              "      <th>3. low</th>\n",
              "      <th>4. close</th>\n",
              "      <th>5. volume</th>\n",
              "      <th>TradeDate</th>\n",
              "      <th>time</th>\n",
              "    </tr>\n",
              "    <tr>\n",
              "      <th>date</th>\n",
              "      <th></th>\n",
              "      <th></th>\n",
              "      <th></th>\n",
              "      <th></th>\n",
              "      <th></th>\n",
              "      <th></th>\n",
              "      <th></th>\n",
              "    </tr>\n",
              "  </thead>\n",
              "  <tbody>\n",
              "    <tr>\n",
              "      <th>2021-02-19 20:00:00</th>\n",
              "      <td>240.68</td>\n",
              "      <td>240.68</td>\n",
              "      <td>240.68</td>\n",
              "      <td>240.68</td>\n",
              "      <td>383.0</td>\n",
              "      <td>2021-02-19</td>\n",
              "      <td>20:00:00</td>\n",
              "    </tr>\n",
              "    <tr>\n",
              "      <th>2021-02-19 19:59:00</th>\n",
              "      <td>240.61</td>\n",
              "      <td>240.61</td>\n",
              "      <td>240.61</td>\n",
              "      <td>240.61</td>\n",
              "      <td>531.0</td>\n",
              "      <td>2021-02-19</td>\n",
              "      <td>19:59:00</td>\n",
              "    </tr>\n",
              "    <tr>\n",
              "      <th>2021-02-19 19:58:00</th>\n",
              "      <td>240.61</td>\n",
              "      <td>240.61</td>\n",
              "      <td>240.61</td>\n",
              "      <td>240.61</td>\n",
              "      <td>406.0</td>\n",
              "      <td>2021-02-19</td>\n",
              "      <td>19:58:00</td>\n",
              "    </tr>\n",
              "    <tr>\n",
              "      <th>2021-02-19 19:52:00</th>\n",
              "      <td>240.78</td>\n",
              "      <td>240.78</td>\n",
              "      <td>240.78</td>\n",
              "      <td>240.78</td>\n",
              "      <td>315.0</td>\n",
              "      <td>2021-02-19</td>\n",
              "      <td>19:52:00</td>\n",
              "    </tr>\n",
              "    <tr>\n",
              "      <th>2021-02-19 19:42:00</th>\n",
              "      <td>240.60</td>\n",
              "      <td>240.60</td>\n",
              "      <td>240.60</td>\n",
              "      <td>240.60</td>\n",
              "      <td>170.0</td>\n",
              "      <td>2021-02-19</td>\n",
              "      <td>19:42:00</td>\n",
              "    </tr>\n",
              "    <tr>\n",
              "      <th>...</th>\n",
              "      <td>...</td>\n",
              "      <td>...</td>\n",
              "      <td>...</td>\n",
              "      <td>...</td>\n",
              "      <td>...</td>\n",
              "      <td>...</td>\n",
              "      <td>...</td>\n",
              "    </tr>\n",
              "    <tr>\n",
              "      <th>2021-02-19 04:35:00</th>\n",
              "      <td>243.97</td>\n",
              "      <td>243.97</td>\n",
              "      <td>243.97</td>\n",
              "      <td>243.97</td>\n",
              "      <td>445.0</td>\n",
              "      <td>2021-02-19</td>\n",
              "      <td>04:35:00</td>\n",
              "    </tr>\n",
              "    <tr>\n",
              "      <th>2021-02-19 04:21:00</th>\n",
              "      <td>243.88</td>\n",
              "      <td>243.88</td>\n",
              "      <td>243.88</td>\n",
              "      <td>243.88</td>\n",
              "      <td>122.0</td>\n",
              "      <td>2021-02-19</td>\n",
              "      <td>04:21:00</td>\n",
              "    </tr>\n",
              "    <tr>\n",
              "      <th>2021-02-19 04:20:00</th>\n",
              "      <td>243.86</td>\n",
              "      <td>243.86</td>\n",
              "      <td>243.86</td>\n",
              "      <td>243.86</td>\n",
              "      <td>200.0</td>\n",
              "      <td>2021-02-19</td>\n",
              "      <td>04:20:00</td>\n",
              "    </tr>\n",
              "    <tr>\n",
              "      <th>2021-02-19 04:13:00</th>\n",
              "      <td>243.74</td>\n",
              "      <td>243.74</td>\n",
              "      <td>243.72</td>\n",
              "      <td>243.72</td>\n",
              "      <td>1098.0</td>\n",
              "      <td>2021-02-19</td>\n",
              "      <td>04:13:00</td>\n",
              "    </tr>\n",
              "    <tr>\n",
              "      <th>2021-02-19 04:07:00</th>\n",
              "      <td>243.87</td>\n",
              "      <td>243.87</td>\n",
              "      <td>243.87</td>\n",
              "      <td>243.87</td>\n",
              "      <td>1071.0</td>\n",
              "      <td>2021-02-19</td>\n",
              "      <td>04:07:00</td>\n",
              "    </tr>\n",
              "  </tbody>\n",
              "</table>\n",
              "<p>556 rows × 7 columns</p>\n",
              "</div>"
            ],
            "text/plain": [
              "                     1. open  2. high  3. low  ...  5. volume   TradeDate      time\n",
              "date                                           ...                                 \n",
              "2021-02-19 20:00:00   240.68   240.68  240.68  ...      383.0  2021-02-19  20:00:00\n",
              "2021-02-19 19:59:00   240.61   240.61  240.61  ...      531.0  2021-02-19  19:59:00\n",
              "2021-02-19 19:58:00   240.61   240.61  240.61  ...      406.0  2021-02-19  19:58:00\n",
              "2021-02-19 19:52:00   240.78   240.78  240.78  ...      315.0  2021-02-19  19:52:00\n",
              "2021-02-19 19:42:00   240.60   240.60  240.60  ...      170.0  2021-02-19  19:42:00\n",
              "...                      ...      ...     ...  ...        ...         ...       ...\n",
              "2021-02-19 04:35:00   243.97   243.97  243.97  ...      445.0  2021-02-19  04:35:00\n",
              "2021-02-19 04:21:00   243.88   243.88  243.88  ...      122.0  2021-02-19  04:21:00\n",
              "2021-02-19 04:20:00   243.86   243.86  243.86  ...      200.0  2021-02-19  04:20:00\n",
              "2021-02-19 04:13:00   243.74   243.74  243.72  ...     1098.0  2021-02-19  04:13:00\n",
              "2021-02-19 04:07:00   243.87   243.87  243.87  ...     1071.0  2021-02-19  04:07:00\n",
              "\n",
              "[556 rows x 7 columns]"
            ]
          },
          "metadata": {
            "tags": []
          },
          "execution_count": 25
        }
      ]
    },
    {
      "cell_type": "code",
      "metadata": {
        "id": "wmjXe8ck5UDN"
      },
      "source": [
        "market = data.between_time('19:00:00','20:00:00').copy()"
      ],
      "execution_count": null,
      "outputs": []
    },
    {
      "cell_type": "code",
      "metadata": {
        "id": "DJHg34a66OAm"
      },
      "source": [
        "market.sort_index(inplace=True)"
      ],
      "execution_count": null,
      "outputs": []
    },
    {
      "cell_type": "code",
      "metadata": {
        "colab": {
          "base_uri": "https://localhost:8080/",
          "height": 347
        },
        "id": "_SDRQ_Kl6WTb",
        "outputId": "61e9c620-e65a-4d42-e62e-d7f9fd1968df"
      },
      "source": [
        "market.groupby('TradeDate').agg({'3. low':min, '2. high':max})"
      ],
      "execution_count": null,
      "outputs": [
        {
          "output_type": "execute_result",
          "data": {
            "text/html": [
              "<div>\n",
              "<style scoped>\n",
              "    .dataframe tbody tr th:only-of-type {\n",
              "        vertical-align: middle;\n",
              "    }\n",
              "\n",
              "    .dataframe tbody tr th {\n",
              "        vertical-align: top;\n",
              "    }\n",
              "\n",
              "    .dataframe thead th {\n",
              "        text-align: right;\n",
              "    }\n",
              "</style>\n",
              "<table border=\"1\" class=\"dataframe\">\n",
              "  <thead>\n",
              "    <tr style=\"text-align: right;\">\n",
              "      <th></th>\n",
              "      <th>3. low</th>\n",
              "      <th>2. high</th>\n",
              "    </tr>\n",
              "    <tr>\n",
              "      <th>TradeDate</th>\n",
              "      <th></th>\n",
              "      <th></th>\n",
              "    </tr>\n",
              "  </thead>\n",
              "  <tbody>\n",
              "    <tr>\n",
              "      <th>2021-02-08</th>\n",
              "      <td>241.3465</td>\n",
              "      <td>241.4663</td>\n",
              "    </tr>\n",
              "    <tr>\n",
              "      <th>2021-02-09</th>\n",
              "      <td>243.4417</td>\n",
              "      <td>243.4916</td>\n",
              "    </tr>\n",
              "    <tr>\n",
              "      <th>2021-02-10</th>\n",
              "      <td>241.2967</td>\n",
              "      <td>241.9851</td>\n",
              "    </tr>\n",
              "    <tr>\n",
              "      <th>2021-02-11</th>\n",
              "      <td>243.6412</td>\n",
              "      <td>244.2100</td>\n",
              "    </tr>\n",
              "    <tr>\n",
              "      <th>2021-02-12</th>\n",
              "      <td>244.5991</td>\n",
              "      <td>244.7388</td>\n",
              "    </tr>\n",
              "    <tr>\n",
              "      <th>2021-02-16</th>\n",
              "      <td>241.9651</td>\n",
              "      <td>242.6935</td>\n",
              "    </tr>\n",
              "    <tr>\n",
              "      <th>2021-02-17</th>\n",
              "      <td>244.1500</td>\n",
              "      <td>244.3000</td>\n",
              "    </tr>\n",
              "    <tr>\n",
              "      <th>2021-02-18</th>\n",
              "      <td>242.5500</td>\n",
              "      <td>242.9400</td>\n",
              "    </tr>\n",
              "    <tr>\n",
              "      <th>2021-02-19</th>\n",
              "      <td>240.5000</td>\n",
              "      <td>240.7800</td>\n",
              "    </tr>\n",
              "  </tbody>\n",
              "</table>\n",
              "</div>"
            ],
            "text/plain": [
              "              3. low   2. high\n",
              "TradeDate                     \n",
              "2021-02-08  241.3465  241.4663\n",
              "2021-02-09  243.4417  243.4916\n",
              "2021-02-10  241.2967  241.9851\n",
              "2021-02-11  243.6412  244.2100\n",
              "2021-02-12  244.5991  244.7388\n",
              "2021-02-16  241.9651  242.6935\n",
              "2021-02-17  244.1500  244.3000\n",
              "2021-02-18  242.5500  242.9400\n",
              "2021-02-19  240.5000  240.7800"
            ]
          },
          "metadata": {
            "tags": []
          },
          "execution_count": 29
        }
      ]
    },
    {
      "cell_type": "code",
      "metadata": {
        "colab": {
          "base_uri": "https://localhost:8080/",
          "height": 347
        },
        "id": "mPNYjZR768F1",
        "outputId": "f6a3d870-63d6-4df4-b778-6ad80e68d3cf"
      },
      "source": [
        "market.loc[market.groupby('TradeDate')['3. low'].idxmin()]"
      ],
      "execution_count": null,
      "outputs": [
        {
          "output_type": "execute_result",
          "data": {
            "text/html": [
              "<div>\n",
              "<style scoped>\n",
              "    .dataframe tbody tr th:only-of-type {\n",
              "        vertical-align: middle;\n",
              "    }\n",
              "\n",
              "    .dataframe tbody tr th {\n",
              "        vertical-align: top;\n",
              "    }\n",
              "\n",
              "    .dataframe thead th {\n",
              "        text-align: right;\n",
              "    }\n",
              "</style>\n",
              "<table border=\"1\" class=\"dataframe\">\n",
              "  <thead>\n",
              "    <tr style=\"text-align: right;\">\n",
              "      <th></th>\n",
              "      <th>1. open</th>\n",
              "      <th>2. high</th>\n",
              "      <th>3. low</th>\n",
              "      <th>4. close</th>\n",
              "      <th>5. volume</th>\n",
              "      <th>TradeDate</th>\n",
              "      <th>time</th>\n",
              "    </tr>\n",
              "    <tr>\n",
              "      <th>date</th>\n",
              "      <th></th>\n",
              "      <th></th>\n",
              "      <th></th>\n",
              "      <th></th>\n",
              "      <th></th>\n",
              "      <th></th>\n",
              "      <th></th>\n",
              "    </tr>\n",
              "  </thead>\n",
              "  <tbody>\n",
              "    <tr>\n",
              "      <th>2021-02-08 19:46:00</th>\n",
              "      <td>241.3465</td>\n",
              "      <td>241.3465</td>\n",
              "      <td>241.3465</td>\n",
              "      <td>241.3465</td>\n",
              "      <td>108.0</td>\n",
              "      <td>2021-02-08</td>\n",
              "      <td>19:46:00</td>\n",
              "    </tr>\n",
              "    <tr>\n",
              "      <th>2021-02-09 19:29:00</th>\n",
              "      <td>243.4417</td>\n",
              "      <td>243.4417</td>\n",
              "      <td>243.4417</td>\n",
              "      <td>243.4417</td>\n",
              "      <td>100.0</td>\n",
              "      <td>2021-02-09</td>\n",
              "      <td>19:29:00</td>\n",
              "    </tr>\n",
              "    <tr>\n",
              "      <th>2021-02-10 19:56:00</th>\n",
              "      <td>241.3166</td>\n",
              "      <td>241.3166</td>\n",
              "      <td>241.2967</td>\n",
              "      <td>241.2967</td>\n",
              "      <td>1732.0</td>\n",
              "      <td>2021-02-10</td>\n",
              "      <td>19:56:00</td>\n",
              "    </tr>\n",
              "    <tr>\n",
              "      <th>2021-02-11 19:59:00</th>\n",
              "      <td>243.6412</td>\n",
              "      <td>243.6412</td>\n",
              "      <td>243.6412</td>\n",
              "      <td>243.6412</td>\n",
              "      <td>399.0</td>\n",
              "      <td>2021-02-11</td>\n",
              "      <td>19:59:00</td>\n",
              "    </tr>\n",
              "    <tr>\n",
              "      <th>2021-02-12 19:10:00</th>\n",
              "      <td>244.5991</td>\n",
              "      <td>244.6290</td>\n",
              "      <td>244.5991</td>\n",
              "      <td>244.6290</td>\n",
              "      <td>300.0</td>\n",
              "      <td>2021-02-12</td>\n",
              "      <td>19:10:00</td>\n",
              "    </tr>\n",
              "    <tr>\n",
              "      <th>2021-02-16 19:05:00</th>\n",
              "      <td>242.4440</td>\n",
              "      <td>242.4440</td>\n",
              "      <td>241.9651</td>\n",
              "      <td>241.9651</td>\n",
              "      <td>2888.0</td>\n",
              "      <td>2021-02-16</td>\n",
              "      <td>19:05:00</td>\n",
              "    </tr>\n",
              "    <tr>\n",
              "      <th>2021-02-17 19:36:00</th>\n",
              "      <td>244.1500</td>\n",
              "      <td>244.1500</td>\n",
              "      <td>244.1500</td>\n",
              "      <td>244.1500</td>\n",
              "      <td>300.0</td>\n",
              "      <td>2021-02-17</td>\n",
              "      <td>19:36:00</td>\n",
              "    </tr>\n",
              "    <tr>\n",
              "      <th>2021-02-18 19:07:00</th>\n",
              "      <td>242.7400</td>\n",
              "      <td>242.7400</td>\n",
              "      <td>242.5500</td>\n",
              "      <td>242.5500</td>\n",
              "      <td>1000.0</td>\n",
              "      <td>2021-02-18</td>\n",
              "      <td>19:07:00</td>\n",
              "    </tr>\n",
              "    <tr>\n",
              "      <th>2021-02-19 19:06:00</th>\n",
              "      <td>240.5000</td>\n",
              "      <td>240.5100</td>\n",
              "      <td>240.5000</td>\n",
              "      <td>240.5100</td>\n",
              "      <td>611.0</td>\n",
              "      <td>2021-02-19</td>\n",
              "      <td>19:06:00</td>\n",
              "    </tr>\n",
              "  </tbody>\n",
              "</table>\n",
              "</div>"
            ],
            "text/plain": [
              "                      1. open   2. high  ...   TradeDate      time\n",
              "date                                     ...                      \n",
              "2021-02-08 19:46:00  241.3465  241.3465  ...  2021-02-08  19:46:00\n",
              "2021-02-09 19:29:00  243.4417  243.4417  ...  2021-02-09  19:29:00\n",
              "2021-02-10 19:56:00  241.3166  241.3166  ...  2021-02-10  19:56:00\n",
              "2021-02-11 19:59:00  243.6412  243.6412  ...  2021-02-11  19:59:00\n",
              "2021-02-12 19:10:00  244.5991  244.6290  ...  2021-02-12  19:10:00\n",
              "2021-02-16 19:05:00  242.4440  242.4440  ...  2021-02-16  19:05:00\n",
              "2021-02-17 19:36:00  244.1500  244.1500  ...  2021-02-17  19:36:00\n",
              "2021-02-18 19:07:00  242.7400  242.7400  ...  2021-02-18  19:07:00\n",
              "2021-02-19 19:06:00  240.5000  240.5100  ...  2021-02-19  19:06:00\n",
              "\n",
              "[9 rows x 7 columns]"
            ]
          },
          "metadata": {
            "tags": []
          },
          "execution_count": 31
        }
      ]
    },
    {
      "cell_type": "code",
      "metadata": {
        "colab": {
          "base_uri": "https://localhost:8080/",
          "height": 347
        },
        "id": "eWTKPVyt7qK9",
        "outputId": "346b5a19-356b-49f1-8f40-40296bf25b2c"
      },
      "source": [
        "market.loc[market.groupby('TradeDate')['2. high'].idxmax()]"
      ],
      "execution_count": null,
      "outputs": [
        {
          "output_type": "execute_result",
          "data": {
            "text/html": [
              "<div>\n",
              "<style scoped>\n",
              "    .dataframe tbody tr th:only-of-type {\n",
              "        vertical-align: middle;\n",
              "    }\n",
              "\n",
              "    .dataframe tbody tr th {\n",
              "        vertical-align: top;\n",
              "    }\n",
              "\n",
              "    .dataframe thead th {\n",
              "        text-align: right;\n",
              "    }\n",
              "</style>\n",
              "<table border=\"1\" class=\"dataframe\">\n",
              "  <thead>\n",
              "    <tr style=\"text-align: right;\">\n",
              "      <th></th>\n",
              "      <th>1. open</th>\n",
              "      <th>2. high</th>\n",
              "      <th>3. low</th>\n",
              "      <th>4. close</th>\n",
              "      <th>5. volume</th>\n",
              "      <th>TradeDate</th>\n",
              "      <th>time</th>\n",
              "    </tr>\n",
              "    <tr>\n",
              "      <th>date</th>\n",
              "      <th></th>\n",
              "      <th></th>\n",
              "      <th></th>\n",
              "      <th></th>\n",
              "      <th></th>\n",
              "      <th></th>\n",
              "      <th></th>\n",
              "    </tr>\n",
              "  </thead>\n",
              "  <tbody>\n",
              "    <tr>\n",
              "      <th>2021-02-08 19:15:00</th>\n",
              "      <td>241.4663</td>\n",
              "      <td>241.4663</td>\n",
              "      <td>241.4663</td>\n",
              "      <td>241.4663</td>\n",
              "      <td>535.0</td>\n",
              "      <td>2021-02-08</td>\n",
              "      <td>19:15:00</td>\n",
              "    </tr>\n",
              "    <tr>\n",
              "      <th>2021-02-09 19:12:00</th>\n",
              "      <td>243.4916</td>\n",
              "      <td>243.4916</td>\n",
              "      <td>243.4916</td>\n",
              "      <td>243.4916</td>\n",
              "      <td>204.0</td>\n",
              "      <td>2021-02-09</td>\n",
              "      <td>19:12:00</td>\n",
              "    </tr>\n",
              "    <tr>\n",
              "      <th>2021-02-10 19:08:00</th>\n",
              "      <td>241.9851</td>\n",
              "      <td>241.9851</td>\n",
              "      <td>241.8155</td>\n",
              "      <td>241.8155</td>\n",
              "      <td>1324.0</td>\n",
              "      <td>2021-02-10</td>\n",
              "      <td>19:08:00</td>\n",
              "    </tr>\n",
              "    <tr>\n",
              "      <th>2021-02-11 19:08:00</th>\n",
              "      <td>244.2000</td>\n",
              "      <td>244.2100</td>\n",
              "      <td>244.2000</td>\n",
              "      <td>244.2100</td>\n",
              "      <td>999.0</td>\n",
              "      <td>2021-02-11</td>\n",
              "      <td>19:08:00</td>\n",
              "    </tr>\n",
              "    <tr>\n",
              "      <th>2021-02-12 19:43:00</th>\n",
              "      <td>244.7388</td>\n",
              "      <td>244.7388</td>\n",
              "      <td>244.7288</td>\n",
              "      <td>244.7288</td>\n",
              "      <td>1985.0</td>\n",
              "      <td>2021-02-12</td>\n",
              "      <td>19:43:00</td>\n",
              "    </tr>\n",
              "    <tr>\n",
              "      <th>2021-02-16 20:00:00</th>\n",
              "      <td>242.4540</td>\n",
              "      <td>242.6935</td>\n",
              "      <td>242.4540</td>\n",
              "      <td>242.6935</td>\n",
              "      <td>439.0</td>\n",
              "      <td>2021-02-16</td>\n",
              "      <td>20:00:00</td>\n",
              "    </tr>\n",
              "    <tr>\n",
              "      <th>2021-02-17 19:09:00</th>\n",
              "      <td>244.2800</td>\n",
              "      <td>244.3000</td>\n",
              "      <td>244.2800</td>\n",
              "      <td>244.3000</td>\n",
              "      <td>512.0</td>\n",
              "      <td>2021-02-17</td>\n",
              "      <td>19:09:00</td>\n",
              "    </tr>\n",
              "    <tr>\n",
              "      <th>2021-02-18 19:51:00</th>\n",
              "      <td>242.9400</td>\n",
              "      <td>242.9400</td>\n",
              "      <td>242.9400</td>\n",
              "      <td>242.9400</td>\n",
              "      <td>145.0</td>\n",
              "      <td>2021-02-18</td>\n",
              "      <td>19:51:00</td>\n",
              "    </tr>\n",
              "    <tr>\n",
              "      <th>2021-02-19 19:52:00</th>\n",
              "      <td>240.7800</td>\n",
              "      <td>240.7800</td>\n",
              "      <td>240.7800</td>\n",
              "      <td>240.7800</td>\n",
              "      <td>315.0</td>\n",
              "      <td>2021-02-19</td>\n",
              "      <td>19:52:00</td>\n",
              "    </tr>\n",
              "  </tbody>\n",
              "</table>\n",
              "</div>"
            ],
            "text/plain": [
              "                      1. open   2. high  ...   TradeDate      time\n",
              "date                                     ...                      \n",
              "2021-02-08 19:15:00  241.4663  241.4663  ...  2021-02-08  19:15:00\n",
              "2021-02-09 19:12:00  243.4916  243.4916  ...  2021-02-09  19:12:00\n",
              "2021-02-10 19:08:00  241.9851  241.9851  ...  2021-02-10  19:08:00\n",
              "2021-02-11 19:08:00  244.2000  244.2100  ...  2021-02-11  19:08:00\n",
              "2021-02-12 19:43:00  244.7388  244.7388  ...  2021-02-12  19:43:00\n",
              "2021-02-16 20:00:00  242.4540  242.6935  ...  2021-02-16  20:00:00\n",
              "2021-02-17 19:09:00  244.2800  244.3000  ...  2021-02-17  19:09:00\n",
              "2021-02-18 19:51:00  242.9400  242.9400  ...  2021-02-18  19:51:00\n",
              "2021-02-19 19:52:00  240.7800  240.7800  ...  2021-02-19  19:52:00\n",
              "\n",
              "[9 rows x 7 columns]"
            ]
          },
          "metadata": {
            "tags": []
          },
          "execution_count": 32
        }
      ]
    },
    {
      "cell_type": "code",
      "metadata": {
        "colab": {
          "base_uri": "https://localhost:8080/"
        },
        "id": "APoBurZWVjdF",
        "outputId": "bc3e6d0b-251f-4399-ffc4-76cfac2fd0f9"
      },
      "source": [
        "print(data)"
      ],
      "execution_count": null,
      "outputs": [
        {
          "output_type": "stream",
          "text": [
            "                     1. open   2. high  3. low  4. close  5. volume\n",
            "date                                                               \n",
            "2021-02-19 20:00:00   129.74  129.7500  129.72    129.72     7491.0\n",
            "2021-02-19 19:59:00   129.72  129.7401  129.72    129.74     1478.0\n",
            "2021-02-19 19:58:00   129.75  129.7500  129.70    129.74     3255.0\n",
            "2021-02-19 19:57:00   129.69  129.7000  129.69    129.70     1117.0\n",
            "2021-02-19 19:56:00   129.70  129.7000  129.66    129.69     1574.0\n",
            "...                      ...       ...     ...       ...        ...\n",
            "2021-02-08 04:05:00   136.53  136.6200  136.53    136.62     1533.0\n",
            "2021-02-08 04:04:00   136.69  136.7900  136.69    136.79     2570.0\n",
            "2021-02-08 04:03:00   136.63  136.8000  136.50    136.80     4741.0\n",
            "2021-02-08 04:02:00   136.72  136.7200  136.66    136.70     2083.0\n",
            "2021-02-08 04:01:00   136.68  136.8000  136.65    136.80    34441.0\n",
            "\n",
            "[7618 rows x 5 columns]\n"
          ],
          "name": "stdout"
        }
      ]
    },
    {
      "cell_type": "code",
      "metadata": {
        "colab": {
          "base_uri": "https://localhost:8080/",
          "height": 195
        },
        "id": "z-MLfhS5V1yc",
        "outputId": "0f3c82cd-ec7a-4121-adbc-46a5f9d9d0aa"
      },
      "source": [
        "i=1\r\n",
        "while i==1:\r\n",
        "  data, meta_data=ts.get_intraday(symbol='stock_name',interval='1min',outputsize='full')\r\n",
        "  data.to_excel(\"output.xlsx\")\r\n",
        "  time.sleep(60)"
      ],
      "execution_count": null,
      "outputs": [
        {
          "output_type": "error",
          "ename": "KeyboardInterrupt",
          "evalue": "ignored",
          "traceback": [
            "\u001b[0;31m---------------------------------------------------------------------------\u001b[0m",
            "\u001b[0;31mKeyboardInterrupt\u001b[0m                         Traceback (most recent call last)",
            "\u001b[0;32m<ipython-input-31-01f256b46909>\u001b[0m in \u001b[0;36m<module>\u001b[0;34m()\u001b[0m\n\u001b[1;32m      3\u001b[0m   \u001b[0mdata\u001b[0m\u001b[0;34m,\u001b[0m \u001b[0mmeta_data\u001b[0m\u001b[0;34m=\u001b[0m\u001b[0mts\u001b[0m\u001b[0;34m.\u001b[0m\u001b[0mget_intraday\u001b[0m\u001b[0;34m(\u001b[0m\u001b[0msymbol\u001b[0m\u001b[0;34m=\u001b[0m\u001b[0;34m'AAPL'\u001b[0m\u001b[0;34m,\u001b[0m\u001b[0minterval\u001b[0m\u001b[0;34m=\u001b[0m\u001b[0;34m'1min'\u001b[0m\u001b[0;34m,\u001b[0m\u001b[0moutputsize\u001b[0m\u001b[0;34m=\u001b[0m\u001b[0;34m'full'\u001b[0m\u001b[0;34m)\u001b[0m\u001b[0;34m\u001b[0m\u001b[0;34m\u001b[0m\u001b[0m\n\u001b[1;32m      4\u001b[0m   \u001b[0mdata\u001b[0m\u001b[0;34m.\u001b[0m\u001b[0mto_excel\u001b[0m\u001b[0;34m(\u001b[0m\u001b[0;34m\"output.xlsx\"\u001b[0m\u001b[0;34m)\u001b[0m\u001b[0;34m\u001b[0m\u001b[0;34m\u001b[0m\u001b[0m\n\u001b[0;32m----> 5\u001b[0;31m   \u001b[0mtime\u001b[0m\u001b[0;34m.\u001b[0m\u001b[0msleep\u001b[0m\u001b[0;34m(\u001b[0m\u001b[0;36m60\u001b[0m\u001b[0;34m)\u001b[0m\u001b[0;34m\u001b[0m\u001b[0;34m\u001b[0m\u001b[0m\n\u001b[0m",
            "\u001b[0;31mKeyboardInterrupt\u001b[0m: "
          ]
        }
      ]
    },
    {
      "cell_type": "code",
      "metadata": {
        "id": "ex7-Ntd2YXGr"
      },
      "source": [
        "close_data = data['4. close']"
      ],
      "execution_count": null,
      "outputs": []
    },
    {
      "cell_type": "code",
      "metadata": {
        "id": "xgg4VpLJYf7D"
      },
      "source": [
        "percentage_change = close_data.pct_change()"
      ],
      "execution_count": null,
      "outputs": []
    },
    {
      "cell_type": "code",
      "metadata": {
        "colab": {
          "base_uri": "https://localhost:8080/"
        },
        "id": "13nuzEpuYtXb",
        "outputId": "47f182f3-8789-4485-ac60-f494723d0240"
      },
      "source": [
        "print(percentage_change)"
      ],
      "execution_count": null,
      "outputs": [
        {
          "output_type": "stream",
          "text": [
            "date\n",
            "2021-02-19 20:00:00         NaN\n",
            "2021-02-19 19:59:00    0.000154\n",
            "2021-02-19 19:58:00    0.000000\n",
            "2021-02-19 19:57:00   -0.000308\n",
            "2021-02-19 19:56:00   -0.000077\n",
            "                         ...   \n",
            "2021-02-08 04:05:00   -0.000731\n",
            "2021-02-08 04:04:00    0.001244\n",
            "2021-02-08 04:03:00    0.000073\n",
            "2021-02-08 04:02:00   -0.000731\n",
            "2021-02-08 04:01:00    0.000732\n",
            "Name: 4. close, Length: 7618, dtype: float64\n"
          ],
          "name": "stdout"
        }
      ]
    },
    {
      "cell_type": "code",
      "metadata": {
        "id": "KWQ7FD4RZIne"
      },
      "source": [
        "last_change = percentage_change[-1]"
      ],
      "execution_count": null,
      "outputs": []
    },
    {
      "cell_type": "code",
      "metadata": {
        "colab": {
          "base_uri": "https://localhost:8080/"
        },
        "id": "Y8H0hoP_ZRVc",
        "outputId": "745b8eca-04e8-45e2-d385-16d063504a84"
      },
      "source": [
        "if abs(last_change) > 0.0004: \r\n",
        "  print(\"stock_name Alert:\",last_change)"
      ],
      "execution_count": null,
      "outputs": [
        {
          "output_type": "stream",
          "text": [
            "AAPL Alert: 0.00073152889539152\n"
          ],
          "name": "stdout"
        }
      ]
    }
  ]
}