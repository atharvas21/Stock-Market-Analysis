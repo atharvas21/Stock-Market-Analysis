{
  "nbformat": 4,
  "nbformat_minor": 0,
  "metadata": {
    "colab": {
      "name": "PBLProject.ipynb",
      "provenance": [],
      "collapsed_sections": [],
      "authorship_tag": "ABX9TyNAdaPhAo6yUawFH1OeBcvh",
      "include_colab_link": true
    },
    "kernelspec": {
      "display_name": "Python 3",
      "name": "python3"
    }
  },
  "cells": [
    {
      "cell_type": "markdown",
      "metadata": {
        "id": "view-in-github",
        "colab_type": "text"
      },
      "source": [
        "<a href=\"https://colab.research.google.com/github/atharvas21/Stock-Market-Analysis/blob/main/PBLProject.ipynb\" target=\"_parent\"><img src=\"https://colab.research.google.com/assets/colab-badge.svg\" alt=\"Open In Colab\"/></a>"
      ]
    },
    {
      "cell_type": "code",
      "metadata": {
        "colab": {
          "background_save": true,
          "base_uri": "https://localhost:8080/"
        },
        "id": "DXawqmQsSvkd",
        "outputId": "30307795-ddd9-47eb-af3f-6edd267e2301"
      },
      "source": [
        "pip install alpha_vantage"
      ],
      "execution_count": null,
      "outputs": [
        {
          "output_type": "stream",
          "text": [
            "Requirement already satisfied: alpha_vantage in /usr/local/lib/python3.6/dist-packages (2.3.1)\n",
            "Requirement already satisfied: requests in /usr/local/lib/python3.6/dist-packages (from alpha_vantage) (2.23.0)\n",
            "Requirement already satisfied: aiohttp in /usr/local/lib/python3.6/dist-packages (from alpha_vantage) (3.7.3)\n",
            "Requirement already satisfied: chardet<4,>=3.0.2 in /usr/local/lib/python3.6/dist-packages (from requests->alpha_vantage) (3.0.4)\n",
            "Requirement already satisfied: urllib3!=1.25.0,!=1.25.1,<1.26,>=1.21.1 in /usr/local/lib/python3.6/dist-packages (from requests->alpha_vantage) (1.24.3)\n",
            "Requirement already satisfied: idna<3,>=2.5 in /usr/local/lib/python3.6/dist-packages (from requests->alpha_vantage) (2.10)\n",
            "Requirement already satisfied: certifi>=2017.4.17 in /usr/local/lib/python3.6/dist-packages (from requests->alpha_vantage) (2020.12.5)\n",
            "Requirement already satisfied: yarl<2.0,>=1.0 in /usr/local/lib/python3.6/dist-packages (from aiohttp->alpha_vantage) (1.6.3)\n",
            "Requirement already satisfied: multidict<7.0,>=4.5 in /usr/local/lib/python3.6/dist-packages (from aiohttp->alpha_vantage) (5.1.0)\n",
            "Requirement already satisfied: async-timeout<4.0,>=3.0 in /usr/local/lib/python3.6/dist-packages (from aiohttp->alpha_vantage) (3.0.1)\n",
            "Requirement already satisfied: typing-extensions>=3.6.5 in /usr/local/lib/python3.6/dist-packages (from aiohttp->alpha_vantage) (3.7.4.3)\n",
            "Requirement already satisfied: attrs>=17.3.0 in /usr/local/lib/python3.6/dist-packages (from aiohttp->alpha_vantage) (20.3.0)\n",
            "Requirement already satisfied: idna-ssl>=1.0; python_version < \"3.7\" in /usr/local/lib/python3.6/dist-packages (from aiohttp->alpha_vantage) (1.1.0)\n"
          ],
          "name": "stdout"
        }
      ]
    },
    {
      "cell_type": "code",
      "metadata": {
        "colab": {
          "background_save": true
        },
        "id": "14yEBuOjTCin"
      },
      "source": [
        "import pandas as pd\r\n",
        "from alpha_vantage.timeseries import TimeSeries"
      ],
      "execution_count": null,
      "outputs": []
    },
    {
      "cell_type": "code",
      "metadata": {
        "colab": {
          "background_save": true
        },
        "id": "Gynv1CisUA8k"
      },
      "source": [
        "import time"
      ],
      "execution_count": null,
      "outputs": []
    },
    {
      "cell_type": "code",
      "metadata": {
        "colab": {
          "background_save": true
        },
        "id": "QWlJt1QzUDHx"
      },
      "source": [
        "api_key='83LIV3EGEE3G9BV1'"
      ],
      "execution_count": null,
      "outputs": []
    },
    {
      "cell_type": "code",
      "metadata": {
        "colab": {
          "background_save": true
        },
        "id": "xNrFXLF0Uk_6"
      },
      "source": [
        "ts = TimeSeries(key=api_key, output_format='pandas')"
      ],
      "execution_count": null,
      "outputs": []
    },
    {
      "cell_type": "code",
      "metadata": {
        "colab": {
          "background_save": true
        },
        "id": "ZhkYEgzdVMsc"
      },
      "source": [
        "data, meta_data=ts.get_intraday(symbol='MSFT',interval='1min',outputsize='full')"
      ],
      "execution_count": null,
      "outputs": []
    },
    {
      "cell_type": "code",
      "metadata": {
        "colab": {
          "background_save": true,
          "base_uri": "https://localhost:8080/"
        },
        "id": "APoBurZWVjdF",
        "outputId": "2f96de79-3680-4adf-e48d-61ae7f83087c"
      },
      "source": [
        "print(data)"
      ],
      "execution_count": null,
      "outputs": [
        {
          "output_type": "stream",
          "text": [
            "                     1. open  2. high    3. low  4. close  5. volume\n",
            "date                                                                \n",
            "2021-02-04 20:00:00   241.80   241.80  241.5501  241.5501      501.0\n",
            "2021-02-04 19:59:00   241.80   241.80  241.6300  241.6300     3281.0\n",
            "2021-02-04 19:55:00   241.76   241.80  241.7500  241.7500     2056.0\n",
            "2021-02-04 19:52:00   241.64   241.64  241.6400  241.6400      392.0\n",
            "2021-02-04 19:51:00   241.62   241.62  241.6000  241.6200      781.0\n",
            "...                      ...      ...       ...       ...        ...\n",
            "2021-01-21 04:08:00   224.09   224.10  224.0700  224.1000     1738.0\n",
            "2021-01-21 04:07:00   224.52   224.52  224.0000  224.0000     4127.0\n",
            "2021-01-21 04:05:00   224.61   224.61  224.5900  224.6000     1681.0\n",
            "2021-01-21 04:03:00   224.50   224.50  224.4900  224.5000     5265.0\n",
            "2021-01-21 04:01:00   224.88   224.88  224.8800  224.8800      406.0\n",
            "\n",
            "[8072 rows x 5 columns]\n"
          ],
          "name": "stdout"
        }
      ]
    },
    {
      "cell_type": "code",
      "metadata": {
        "colab": {
          "base_uri": "https://localhost:8080/",
          "height": 195
        },
        "id": "z-MLfhS5V1yc",
        "outputId": "9d5f1062-4e13-4268-ee51-89e5c93db918"
      },
      "source": [
        "i=1\r\n",
        "while i==1:\r\n",
        "  data, meta_data=ts.get_intraday(symbol='MSFT',interval='1min',outputsize='full')\r\n",
        "  data.to_excel(\"output.xlsx\")\r\n",
        "  time.sleep(60)"
      ],
      "execution_count": null,
      "outputs": [
        {
          "output_type": "error",
          "ename": "KeyboardInterrupt",
          "evalue": "ignored",
          "traceback": [
            "\u001b[0;31m---------------------------------------------------------------------------\u001b[0m",
            "\u001b[0;31mKeyboardInterrupt\u001b[0m                         Traceback (most recent call last)",
            "\u001b[0;32m<ipython-input-10-af6d57dcbe44>\u001b[0m in \u001b[0;36m<module>\u001b[0;34m()\u001b[0m\n\u001b[1;32m      3\u001b[0m   \u001b[0mdata\u001b[0m\u001b[0;34m,\u001b[0m \u001b[0mmeta_data\u001b[0m\u001b[0;34m=\u001b[0m\u001b[0mts\u001b[0m\u001b[0;34m.\u001b[0m\u001b[0mget_intraday\u001b[0m\u001b[0;34m(\u001b[0m\u001b[0msymbol\u001b[0m\u001b[0;34m=\u001b[0m\u001b[0;34m'MSFT'\u001b[0m\u001b[0;34m,\u001b[0m\u001b[0minterval\u001b[0m\u001b[0;34m=\u001b[0m\u001b[0;34m'1min'\u001b[0m\u001b[0;34m,\u001b[0m\u001b[0moutputsize\u001b[0m\u001b[0;34m=\u001b[0m\u001b[0;34m'full'\u001b[0m\u001b[0;34m)\u001b[0m\u001b[0;34m\u001b[0m\u001b[0;34m\u001b[0m\u001b[0m\n\u001b[1;32m      4\u001b[0m   \u001b[0mdata\u001b[0m\u001b[0;34m.\u001b[0m\u001b[0mto_excel\u001b[0m\u001b[0;34m(\u001b[0m\u001b[0;34m\"output.xlsx\"\u001b[0m\u001b[0;34m)\u001b[0m\u001b[0;34m\u001b[0m\u001b[0;34m\u001b[0m\u001b[0m\n\u001b[0;32m----> 5\u001b[0;31m   \u001b[0mtime\u001b[0m\u001b[0;34m.\u001b[0m\u001b[0msleep\u001b[0m\u001b[0;34m(\u001b[0m\u001b[0;36m60\u001b[0m\u001b[0;34m)\u001b[0m\u001b[0;34m\u001b[0m\u001b[0;34m\u001b[0m\u001b[0m\n\u001b[0m",
            "\u001b[0;31mKeyboardInterrupt\u001b[0m: "
          ]
        }
      ]
    },
    {
      "cell_type": "code",
      "metadata": {
        "id": "ex7-Ntd2YXGr"
      },
      "source": [
        "close_data = data['4. close']"
      ],
      "execution_count": null,
      "outputs": []
    },
    {
      "cell_type": "code",
      "metadata": {
        "id": "xgg4VpLJYf7D"
      },
      "source": [
        "percentage_change = close_data.pct_change()"
      ],
      "execution_count": null,
      "outputs": []
    },
    {
      "cell_type": "code",
      "metadata": {
        "colab": {
          "base_uri": "https://localhost:8080/"
        },
        "id": "13nuzEpuYtXb",
        "outputId": "49eecbda-daa6-461c-e9f3-09d58b4b97a5"
      },
      "source": [
        "print(percentage_change)"
      ],
      "execution_count": null,
      "outputs": [
        {
          "output_type": "stream",
          "text": [
            "date\n",
            "2021-02-03 20:00:00         NaN\n",
            "2021-02-03 19:59:00   -0.000288\n",
            "2021-02-03 19:58:00   -0.000123\n",
            "2021-02-03 19:56:00    0.000000\n",
            "2021-02-03 19:55:00   -0.001111\n",
            "                         ...   \n",
            "2021-01-21 04:08:00    0.000000\n",
            "2021-01-21 04:07:00   -0.000446\n",
            "2021-01-21 04:05:00    0.002679\n",
            "2021-01-21 04:03:00   -0.000445\n",
            "2021-01-21 04:01:00    0.001693\n",
            "Name: 4. close, Length: 7474, dtype: float64\n"
          ],
          "name": "stdout"
        }
      ]
    },
    {
      "cell_type": "code",
      "metadata": {
        "id": "KWQ7FD4RZIne"
      },
      "source": [
        "last_change = percentage_change[-1]"
      ],
      "execution_count": null,
      "outputs": []
    },
    {
      "cell_type": "code",
      "metadata": {
        "colab": {
          "base_uri": "https://localhost:8080/"
        },
        "id": "Y8H0hoP_ZRVc",
        "outputId": "7f7161a5-7c65-4af0-9207-cd94401cb057"
      },
      "source": [
        "if abs(last_change) > 0.0004: \r\n",
        "  print(\"MSFT Alert:\")"
      ],
      "execution_count": null,
      "outputs": [
        {
          "output_type": "stream",
          "text": [
            "MSFT Alert:\n"
          ],
          "name": "stdout"
        }
      ]
    }
  ]
}